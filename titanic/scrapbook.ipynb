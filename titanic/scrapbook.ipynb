{
 "cells": [
  {
   "cell_type": "code",
   "execution_count": null,
   "metadata": {},
   "outputs": [],
   "source": [
    "from __future__ import absolute_import, division, print_function\n",
    "\n",
    "import os\n",
    "import matplotlib.pyplot as plt\n",
    "\n",
    "import tensorflow as tf\n",
    "import tensorflow.contrib.eager as tfe\n",
    "\n",
    "tf.enable_eager_execution()\n",
    "\n",
    "\n",
    "import pandas as pd\n",
    "import numpy as np\n",
    "from sklearn.feature_extraction.text import CountVectorizer\n"
   ]
  },
  {
   "cell_type": "code",
   "execution_count": null,
   "metadata": {},
   "outputs": [],
   "source": [
    "\n",
    "train = pd.read_csv('//Users/paul/Sites/kaggle_competitions/titanic/data/train.csv')\n",
    "train['Age'].fillna(train['Age'].mean(), inplace=True)\n",
    "\n",
    "def hasAlias(name):\n",
    "    return True if \"(\" in name else False\n",
    "\n",
    "def getTitle(name):\n",
    "    return name[name.find(\",\")+1:name.find(\".\")]\n",
    "\n",
    "train['Title'] = train.Name.apply(getTitle)\n",
    "train['Deck'] = train['Cabin'].astype(str).str[0]\n",
    "train['HasAlias'] = train.Name.apply(hasAlias)\n",
    "\n",
    "countVectorizerMap =[\n",
    "    {'name':'Pclass', 'analyzer':'char'},\n",
    "    {'name': 'Sex', 'analyzer': 'word'},\n",
    "    {'name': 'Parch', 'analyzer': 'char'},\n",
    "    {'name': 'Embarked', 'analyzer': 'char'},\n",
    "    {'name': 'HasAlias', 'analyzer': 'word'},\n",
    "    {'name': 'Title', 'analyzer': 'word'},\n",
    "    {'name': 'Deck', 'analyzer': 'char'}\n",
    "]\n",
    "\n",
    "\n",
    "def _fitTransform(column):\n",
    "    vectorizer = CountVectorizer(analyzer=column['analyzer'], lowercase=False)\n",
    "    matrix = vectorizer.fit_transform(train[column['name']].apply(str)).todense()\n",
    "    columnNames = [column['name'] + \"_\"+ x for x in vectorizer.vocabulary_]\n",
    "    \n",
    "    return [ pd.DataFrame(data=matrix, columns=columnNames), vectorizer ]\n",
    "\n",
    "\n",
    "fields = [_fitTransform(x) for x in countVectorizerMap]\n",
    "categoryFeatures, vectorizers = zip(*fields)"
   ]
  },
  {
   "cell_type": "code",
   "execution_count": null,
   "metadata": {},
   "outputs": [],
   "source": [
    "categoryFeaturesDF = pd.concat(categoryFeatures, axis=1, join=\"outer\")"
   ]
  },
  {
   "cell_type": "code",
   "execution_count": null,
   "metadata": {},
   "outputs": [],
   "source": [
    "tf.convert_to_tensor(categoryFeaturesDF['Pclass_3'].values, dtype=np.int32)"
   ]
  },
  {
   "cell_type": "code",
   "execution_count": null,
   "metadata": {},
   "outputs": [],
   "source": [
    "{x: tf.convert_to_tensor(categoryFeaturesDF[x].values, dtype=np.int32) for x in  categoryFeaturesDF.columns}"
   ]
  },
  {
   "cell_type": "code",
   "execution_count": null,
   "metadata": {},
   "outputs": [],
   "source": [
    "\n",
    "\n",
    "x = np.hstack([train.as_matrix([\"Age\", \"SibSp\", \"Fare\"]), np.hstack(list(categoryFeatures))])\n",
    "y = train['Survived'].values"
   ]
  },
  {
   "cell_type": "code",
   "execution_count": null,
   "metadata": {},
   "outputs": [],
   "source": [
    "x.shape"
   ]
  },
  {
   "cell_type": "code",
   "execution_count": null,
   "metadata": {},
   "outputs": [],
   "source": [
    "X = tf.convert_to_tensor(x)\n",
    "Y = tf.convert_to_tensor(y)"
   ]
  },
  {
   "cell_type": "code",
   "execution_count": null,
   "metadata": {},
   "outputs": [],
   "source": [
    "dataset = tf.data.Dataset.from_tensor_slices((X, Y))\n",
    "dataset = dataset.batch(32)"
   ]
  },
  {
   "cell_type": "code",
   "execution_count": null,
   "metadata": {},
   "outputs": [],
   "source": [
    "(a, b ) = tfe.Iterator(dataset).next()"
   ]
  },
  {
   "cell_type": "code",
   "execution_count": null,
   "metadata": {},
   "outputs": [],
   "source": [
    "a"
   ]
  },
  {
   "cell_type": "code",
   "execution_count": null,
   "metadata": {},
   "outputs": [],
   "source": [
    "dataset"
   ]
  },
  {
   "cell_type": "code",
   "execution_count": null,
   "metadata": {},
   "outputs": [],
   "source": [
    "def loss(model, x, y):\n",
    "  y_ = model(x)\n",
    "  return tf.losses.sparse_softmax_cross_entropy(labels=y, logits=y_)\n",
    "\n",
    "def grad(model, inputs, targets):\n",
    "  with tfe.GradientTape() as tape:\n",
    "    loss_value = loss(model, inputs, targets)\n",
    "  return tape.gradient(loss_value, model.variables)"
   ]
  },
  {
   "cell_type": "code",
   "execution_count": null,
   "metadata": {},
   "outputs": [],
   "source": [
    "dataset = tf.data.Dataset.from_tensors((X, Y))\n",
    "# dataset = dataset.shuffle(buffer_size=1000)\n",
    "dataset = dataset.batch(32)\n",
    "\n",
    "model = tf.keras.Sequential([\n",
    "    tf.keras.layers.Dense(70, activation=\"relu\", input_shape=(49,)),\n",
    "    tf.keras.layers.Dense(35, activation=\"relu\"),\n",
    "    tf.keras.layers.Dense(2)\n",
    "])\n",
    "\n",
    "train_loss_results = []\n",
    "train_accuracy_results = []\n",
    "\n",
    "num_epochs = 300\n",
    "\n",
    "for epoch in range(num_epochs):\n",
    "    epoch_loss_avg = tfe.metrics.Mean()\n",
    "    epoch_accuracy = tfe.metrics.Accuracy()\n",
    "\n",
    "    # Training loop - using batches of 32\n",
    "    for (x, y) in tfe.Iterator(dataset):\n",
    "        # Optimize the model\n",
    "        grads = grad(model, x, y)\n",
    "        optimizer.apply_gradients(zip(grads, model.variables),\n",
    "                                global_step=tf.train.get_or_create_global_step())\n",
    "\n",
    "        # Track progress\n",
    "        epoch_loss_avg(loss(model, x, y))  # add current batch loss\n",
    "        # compare predicted label to actual label\n",
    "        epoch_accuracy(tf.argmax(model(x), axis=1, output_type=tf.int32), y)\n",
    "\n",
    "    # end epoch\n",
    "    train_loss_results.append(epoch_loss_avg.result())\n",
    "    train_accuracy_results.append(epoch_accuracy.result())\n",
    "\n",
    "    if epoch % 50 == 0:\n",
    "        print(\"Epoch {:03d}: Loss: {:.3f}, Accuracy: {:.3%}\".format(epoch,\n",
    "                                                                    epoch_loss_avg.result(),\n",
    "                                                                    epoch_accuracy.result()))"
   ]
  },
  {
   "cell_type": "code",
   "execution_count": null,
   "metadata": {},
   "outputs": [],
   "source": []
  }
 ],
 "metadata": {
  "language_info": {
   "name": "python",
   "pygments_lexer": "ipython3"
  }
 },
 "nbformat": 4,
 "nbformat_minor": 2
}
