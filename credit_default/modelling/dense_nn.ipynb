{
 "cells": [
  {
   "cell_type": "markdown",
   "metadata": {},
   "source": [
    "# Modelling"
   ]
  },
  {
   "cell_type": "markdown",
   "metadata": {},
   "source": [
    "### Pipeline\n",
    "- load the data\n",
    "- replace null values\n",
    "- separate categorical and numerical\n",
    "- remove columns with very high entropy in categorical and numerical\n",
    "- convert target to binary\n",
    "- run pca on numerical\n",
    "- one hot encoding on categorical\n",
    "- train test separation\n",
    "- Grid search for dense_nn configuration"
   ]
  },
  {
   "cell_type": "markdown",
   "metadata": {},
   "source": [
    "### Imports"
   ]
  },
  {
   "cell_type": "code",
   "execution_count": null,
   "metadata": {},
   "outputs": [],
   "source": [
    "%load_ext autoreload\n",
    "\n",
    "%autoreload 2\n",
    "\n",
    "import os,sys,inspect\n",
    "currentdir = os.path.dirname(os.path.abspath(inspect.getfile(inspect.currentframe())))\n",
    "parentdir = os.path.dirname(currentdir)\n",
    "sys.path.insert(0,parentdir) \n",
    "\n",
    "import pandas as pd\n",
    "from sklearn.model_selection import train_test_split\n",
    "from sklearn.decomposition import PCA\n",
    "from sklearn.preprocessing import StandardScaler\n",
    "from sklearn.metrics import precision_recall_fscore_support\n",
    "from sklearn.ensemble import RandomForestClassifier\n",
    "from sklearn.linear_model import LogisticRegression\n",
    "from sklearn.model_selection import GridSearchCV\n",
    "\n",
    "from catboost import CatBoostRegressor, CatBoostClassifier\n",
    "import pickle\n",
    "\n",
    "from keras.models import Sequential\n",
    "from keras.layers import Dense, Activation, Dropout, Lambda\n",
    "from keras import regularizers\n",
    "from keras.losses import mean_absolute_error\n",
    "\n",
    "from keras.wrappers.scikit_learn import KerasClassifier\n",
    "\n",
    "\n",
    "import math\n",
    "import numpy as np\n",
    "\n",
    "from etl.null_value_replacer import NullValueReplacer\n",
    "\n",
    "from sklearn.base import BaseEstimator, TransformerMixin\n"
   ]
  },
  {
   "cell_type": "markdown",
   "metadata": {},
   "source": [
    "### Load Data"
   ]
  },
  {
   "cell_type": "code",
   "execution_count": null,
   "metadata": {},
   "outputs": [],
   "source": [
    "train_data = pd.read_csv(\"../data/loan-default-prediction/train_v2.csv\")"
   ]
  },
  {
   "cell_type": "code",
   "execution_count": null,
   "metadata": {},
   "outputs": [],
   "source": [
    "train_id = train_data[\"id\"]\n",
    "train_loss = train_data[\"loss\"]\n",
    "\n",
    "train_data.drop(columns=[\"id\", \"loss\"], inplace=True)"
   ]
  },
  {
   "cell_type": "code",
   "execution_count": null,
   "metadata": {},
   "outputs": [],
   "source": [
    "train_data, test_data, train_loss, test_loss = train_test_split(train_data, train_loss, test_size=0.33, random_state=42)"
   ]
  },
  {
   "cell_type": "code",
   "execution_count": null,
   "metadata": {},
   "outputs": [],
   "source": [
    "class RedundantColumnsRemover(BaseEstimator, TransformerMixin):\n",
    "    def fit(self, X, **fit_params):\n",
    "        df_data_types = X.dtypes\n",
    "        cat_var = [key for key in dict(df_data_types)\n",
    "                         if dict(df_data_types)[key] in ['object']]\n",
    "\n",
    "        tmp = X.drop(columns=cat_var)\n",
    "        \n",
    "        column_subset = tmp.columns.values\n",
    "        groups = []\n",
    "        redundant_columns = []\n",
    "        for i in range(len(column_subset)):\n",
    "            col1 = column_subset[i]\n",
    "            if col1 in redundant_columns:\n",
    "                    continue\n",
    "            same_columns = [col1]\n",
    "\n",
    "            for j in range(i, len(column_subset)):\n",
    "                col2 = column_subset[j]\n",
    "                if col1 == col2:\n",
    "                    continue\n",
    "                if (tmp[col1] - tmp[col2]).sum() == 0:\n",
    "                    same_columns += [col2]\n",
    "                    redundant_columns += [col2]\n",
    "            groups+=[same_columns]\n",
    "\n",
    "        self.columns_to_use = [i[0] for i in groups]\n",
    "        return self\n",
    "        \n",
    "    def transform(self, X, y=None, **transform_params):\n",
    "        \n",
    "        return X[self.columns_to_use]\n",
    "redundant_columns_remover = RedundantColumnsRemover()"
   ]
  },
  {
   "cell_type": "code",
   "execution_count": null,
   "metadata": {},
   "outputs": [],
   "source": [
    "class CategoryEncoder(BaseEstimator, TransformerMixin):\n",
    "    def __init__(self, columns_to_encode):\n",
    "        self.columns_to_encode = columns_to_encode\n",
    "        \n",
    "    def fit(self, X, **fit_params):\n",
    "        return self\n",
    "        \n",
    "    def transform(self, X, y=None, **transform_params):\n",
    "        categorical_pd = X[self.columns_to_encode]\n",
    "        X_without_categorical = X.drop(columns = self.columns_to_encode)\n",
    "        categorical_dummies = pd.get_dummies(categorical_pd, columns=self.columns_to_encode)\n",
    "        return pd.concat([X_without_categorical, categorical_dummies], axis=1)\n",
    "\n",
    "category_encoder = CategoryEncoder([\"f776\", \"f777\", \"f725\"])"
   ]
  },
  {
   "cell_type": "code",
   "execution_count": null,
   "metadata": {},
   "outputs": [],
   "source": [
    "null_value_replacer = NullValueReplacer(\"median\")\n",
    "pca = PCA(svd_solver='full')\n",
    "standard_scaler = StandardScaler()"
   ]
  },
  {
   "cell_type": "code",
   "execution_count": null,
   "metadata": {},
   "outputs": [],
   "source": [
    "train_data = redundant_columns_remover.fit_transform(train_data)\n",
    "train_data = category_encoder.fit_transform(train_data)\n",
    "train_data = null_value_replacer.fit_transform(train_data)\n",
    "# train_data = pca.fit_transform(train_data)\n",
    "train_data = standard_scaler.fit_transform(train_data)"
   ]
  },
  {
   "cell_type": "code",
   "execution_count": null,
   "metadata": {},
   "outputs": [],
   "source": [
    "train_data = standard_scaler.fit_transform(train_data)"
   ]
  },
  {
   "cell_type": "markdown",
   "metadata": {},
   "source": [
    "### Linear Regression Classifier"
   ]
  },
  {
   "cell_type": "code",
   "execution_count": null,
   "metadata": {},
   "outputs": [],
   "source": [
    "y = train_loss.astype(\"bool\").astype(\"int\")\n",
    "X_train, X_test, y_train, y_test = train_test_split(train_data, y, test_size=0.33, random_state=42)\n"
   ]
  },
  {
   "cell_type": "code",
   "execution_count": null,
   "metadata": {},
   "outputs": [],
   "source": [
    "logistic_regression = LogisticRegression()"
   ]
  },
  {
   "cell_type": "code",
   "execution_count": null,
   "metadata": {},
   "outputs": [],
   "source": [
    "logistic_regression.fit(X_train, y_train)"
   ]
  },
  {
   "cell_type": "code",
   "execution_count": null,
   "metadata": {},
   "outputs": [],
   "source": [
    "prediction_logistic = logistic_regression.predict(X_test)"
   ]
  },
  {
   "cell_type": "code",
   "execution_count": null,
   "metadata": {},
   "outputs": [],
   "source": [
    "precision_recall_fscore_support(y_test.values, prediction_logistic)"
   ]
  },
  {
   "cell_type": "markdown",
   "metadata": {},
   "source": [
    "## Classifier"
   ]
  },
  {
   "cell_type": "markdown",
   "metadata": {},
   "source": [
    "Do the correlation between target and source columns"
   ]
  },
  {
   "cell_type": "code",
   "execution_count": null,
   "metadata": {},
   "outputs": [],
   "source": [
    "def get_classification_model():\n",
    "    model=Sequential()\n",
    "\n",
    "    model.add(Dense(1024, input_dim=X_train.shape[1], kernel_regularizer=regularizers.l1_l2(l1=0.0005, l2=0.0)))\n",
    "    model.add(Activation(\"tanh\"))\n",
    "    model.add(Dense(1024, kernel_regularizer=regularizers.l1_l2(l1=0.0005, l2=0.0)))\n",
    "    model.add(Activation(\"tanh\"))\n",
    "    model.add(Dense(1))\n",
    "    model.add(Activation(\"sigmoid\"))\n",
    "\n",
    "\n",
    "\n",
    "    model.compile(optimizer='adagrad',\n",
    "                  loss='binary_crossentropy',\n",
    "                  metrics=['accuracy'])\n",
    "    return model"
   ]
  },
  {
   "cell_type": "code",
   "execution_count": null,
   "metadata": {},
   "outputs": [],
   "source": [
    "classification_model = get_classification_model()"
   ]
  },
  {
   "cell_type": "code",
   "execution_count": null,
   "metadata": {},
   "outputs": [],
   "source": [
    "classification_model.fit(X_train, y_train, epochs=160, batch_size=4096, validation_data=(X_test, y_test), class_weight={0:1., 1: 10.})"
   ]
  },
  {
   "cell_type": "code",
   "execution_count": null,
   "metadata": {},
   "outputs": [],
   "source": [
    "precision_recall_fscore_support(y_test.values, classification_model.predict_classes(X_test))"
   ]
  },
  {
   "cell_type": "code",
   "execution_count": null,
   "metadata": {},
   "outputs": [],
   "source": [
    "precision_recall_fscore_support(y_train.values, classification_model.predict_classes(X_train))"
   ]
  },
  {
   "cell_type": "markdown",
   "metadata": {},
   "source": [
    "## Regressor"
   ]
  },
  {
   "cell_type": "code",
   "execution_count": null,
   "metadata": {},
   "outputs": [],
   "source": [
    "foo = pd.DataFrame(data=train_loss.values, columns=[\"loss\"])"
   ]
  },
  {
   "cell_type": "code",
   "execution_count": null,
   "metadata": {},
   "outputs": [],
   "source": [
    "X_r = pd.DataFrame(data=train_data).loc[foo[foo[\"loss\"] > 0].index.values]"
   ]
  },
  {
   "cell_type": "code",
   "execution_count": null,
   "metadata": {},
   "outputs": [],
   "source": [
    "y_r = foo.loc[foo[foo[\"loss\"] > 0].index.values]"
   ]
  },
  {
   "cell_type": "code",
   "execution_count": null,
   "metadata": {},
   "outputs": [],
   "source": [
    "y_r"
   ]
  },
  {
   "cell_type": "code",
   "execution_count": null,
   "metadata": {},
   "outputs": [],
   "source": [
    "X_train_r, X_test_r,y_train_r, y_test_r =  train_test_split(X_r, y_r, test_size=0.33, random_state=42)"
   ]
  },
  {
   "cell_type": "code",
   "execution_count": null,
   "metadata": {},
   "outputs": [],
   "source": [
    "def get_regression_model():\n",
    "    model=Sequential()\n",
    "\n",
    "    model.add(Dense(1024, input_dim=X_train_r.shape[1], kernel_regularizer=regularizers.l1_l2(l1=0.00001, l2=0.0)))\n",
    "    model.add(Dropout(rate=0.2))\n",
    "    model.add(Activation(\"tanh\"))\n",
    "    model.add(Dense(1024, kernel_regularizer=regularizers.l1_l2(l1=0.00001, l2=0.0)))\n",
    "    model.add(Dropout(rate=0.2))\n",
    "    model.add(Activation(\"tanh\"))\n",
    "    model.add(Dense(1))\n",
    "\n",
    "    model.compile(optimizer='adagrad',\n",
    "                  loss='mean_absolute_error')\n",
    "    return model\n",
    "\n",
    "regression_model = get_regression_model()"
   ]
  },
  {
   "cell_type": "code",
   "execution_count": null,
   "metadata": {},
   "outputs": [],
   "source": [
    "regression_model.fit(X_train_r, y_train_r, epochs=200, batch_size=1024, validation_data=(X_test_r, y_test_r))"
   ]
  },
  {
   "cell_type": "code",
   "execution_count": null,
   "metadata": {},
   "outputs": [],
   "source": [
    "regression_prediction = regression_model.predict(X_test_r).reshape(2160,)"
   ]
  },
  {
   "cell_type": "code",
   "execution_count": null,
   "metadata": {},
   "outputs": [],
   "source": [
    "np.round(regression_prediction)[: 20]"
   ]
  },
  {
   "cell_type": "code",
   "execution_count": null,
   "metadata": {},
   "outputs": [],
   "source": [
    "y_test_r.head(20)"
   ]
  },
  {
   "cell_type": "code",
   "execution_count": null,
   "metadata": {},
   "outputs": [],
   "source": [
    "np.abs(regression_prediction - y_test_r[\"loss\"].values).sum()/y_test_r.shape[0]"
   ]
  },
  {
   "cell_type": "markdown",
   "metadata": {},
   "source": [
    "### Combined prediction"
   ]
  },
  {
   "cell_type": "code",
   "execution_count": null,
   "metadata": {},
   "outputs": [],
   "source": [
    "class CombinedModel():\n",
    "    def __init__(self,classification_model, regression_model):\n",
    "        self.classification_model = classification_model\n",
    "        self.regression_model = regression_model\n",
    "        \n",
    "    def predict(self,X):\n",
    "        classification_prediction = self.classification_model.predict_classes(X)\n",
    "        indices_of_predicted_defaults = np.where(classification_prediction == 1)[0]\n",
    "        regression_prediction = self.regression_model.predict(X[indices_of_predicted_defaults])\n",
    "\n",
    "        result = np.zeros(X.shape[0])\n",
    "#         np.put(result, indices_of_predicted_defaults, regression_prediction.reshape(regression_prediction.shape[0], ))\n",
    "        np.put(result, indices_of_predicted_defaults, np.full((regression_prediction.shape[0],), 2) )\n",
    "        return result"
   ]
  },
  {
   "cell_type": "code",
   "execution_count": null,
   "metadata": {},
   "outputs": [],
   "source": [
    "combined_model = CombinedModel(classification_model, regression_model)\n"
   ]
  },
  {
   "cell_type": "code",
   "execution_count": null,
   "metadata": {},
   "outputs": [],
   "source": [
    "combined_prediction = combined_model.predict(train_data)"
   ]
  },
  {
   "cell_type": "code",
   "execution_count": null,
   "metadata": {},
   "outputs": [],
   "source": [
    "combined_prediction"
   ]
  },
  {
   "cell_type": "code",
   "execution_count": null,
   "metadata": {},
   "outputs": [],
   "source": [
    "np.abs(combined_prediction - train_loss.values).sum()/combined_prediction.shape[0]\n"
   ]
  },
  {
   "cell_type": "markdown",
   "metadata": {},
   "source": [
    "### Submission to Kaggle"
   ]
  },
  {
   "cell_type": "code",
   "execution_count": null,
   "metadata": {},
   "outputs": [],
   "source": [
    "#test_data = pd.read_csv(\"../data/loan-default-prediction/test_v2.csv\")"
   ]
  },
  {
   "cell_type": "code",
   "execution_count": null,
   "metadata": {},
   "outputs": [],
   "source": [
    "#test_ids = test_data[\"id\"]"
   ]
  },
  {
   "cell_type": "code",
   "execution_count": null,
   "metadata": {},
   "outputs": [],
   "source": [
    "#test_data.drop(columns=[\"id\"], inplace=True)"
   ]
  },
  {
   "cell_type": "code",
   "execution_count": null,
   "metadata": {},
   "outputs": [],
   "source": [
    "test_data = redundant_columns_remover.transform(test_data)\n",
    "test_data = category_encoder.transform(test_data)\n",
    "test_data = null_value_replacer.transform(test_data)\n",
    "test_data = pca.transform(test_data)\n",
    "test_data = standard_scaler.transform(test_data)"
   ]
  },
  {
   "cell_type": "code",
   "execution_count": null,
   "metadata": {},
   "outputs": [],
   "source": [
    "predictions = combined_model.predict(test_data)"
   ]
  },
  {
   "cell_type": "code",
   "execution_count": null,
   "metadata": {},
   "outputs": [],
   "source": [
    "predictions = predictions.reshape(34806,)"
   ]
  },
  {
   "cell_type": "code",
   "execution_count": null,
   "metadata": {},
   "outputs": [],
   "source": [
    "predictions[:30]"
   ]
  },
  {
   "cell_type": "code",
   "execution_count": null,
   "metadata": {},
   "outputs": [],
   "source": [
    "test_loss.values[:30]"
   ]
  },
  {
   "cell_type": "code",
   "execution_count": null,
   "metadata": {},
   "outputs": [],
   "source": [
    "np.abs(predictions - test_loss.values).sum()/predictions.shape[0]\n"
   ]
  },
  {
   "cell_type": "code",
   "execution_count": null,
   "metadata": {},
   "outputs": [],
   "source": [
    "pd.DataFrame(data={\"loss\":predictions}, columns=[\"loss\"])"
   ]
  },
  {
   "cell_type": "code",
   "execution_count": null,
   "metadata": {},
   "outputs": [],
   "source": [
    "to_submit = pd.concat([test_ids, pd.DataFrame(data={\"loss\":predictions}, columns=[\"loss\"])], axis=1)"
   ]
  },
  {
   "cell_type": "code",
   "execution_count": null,
   "metadata": {},
   "outputs": [],
   "source": [
    "to_submit.to_csv(\"../data/to_submit_3.csv\", columns=[\"id\", \"loss\"], index=False)"
   ]
  },
  {
   "cell_type": "code",
   "execution_count": null,
   "metadata": {},
   "outputs": [],
   "source": [
    "to_submit"
   ]
  },
  {
   "cell_type": "markdown",
   "metadata": {},
   "source": [
    "### Baselines for predictions\n",
    "\n",
    "* [ ] do a baseline with mean absolute error against 0\n",
    "* [ ] do a baseline with mae against existing loss distribution"
   ]
  },
  {
   "cell_type": "code",
   "execution_count": null,
   "metadata": {},
   "outputs": [],
   "source": [
    "train_loss.mean() # This is also a loss against 0"
   ]
  },
  {
   "cell_type": "code",
   "execution_count": null,
   "metadata": {},
   "outputs": [],
   "source": [
    "def calculate_mean_abs_error(predictions, actuals):\n",
    "    return np.abs(predictions - actuals).sum()/predictions.shape[0]"
   ]
  },
  {
   "cell_type": "code",
   "execution_count": null,
   "metadata": {},
   "outputs": [],
   "source": [
    "calculate_mean_abs_error(np.full(train_loss.shape, 0.8), train_loss) # This is loss against mean value"
   ]
  },
  {
   "cell_type": "code",
   "execution_count": null,
   "metadata": {},
   "outputs": [],
   "source": [
    "random_dist = np.random.choice(\n",
    "    train_loss.value_counts(normalize=True).sort_index().index.values,\n",
    "    train_loss.shape[0],\n",
    "    p=train_loss.value_counts(normalize=True).sort_index().values)"
   ]
  },
  {
   "cell_type": "code",
   "execution_count": null,
   "metadata": {},
   "outputs": [],
   "source": [
    "calculate_mean_abs_error(random_dist, train_loss) # This is loss for random distribution with same prob values"
   ]
  },
  {
   "cell_type": "code",
   "execution_count": null,
   "metadata": {},
   "outputs": [],
   "source": [
    "train_loss[train_loss> 0].mean()"
   ]
  },
  {
   "cell_type": "code",
   "execution_count": null,
   "metadata": {},
   "outputs": [],
   "source": []
  }
 ],
 "metadata": {
  "language_info": {
   "name": "python",
   "pygments_lexer": "ipython3"
  }
 },
 "nbformat": 4,
 "nbformat_minor": 2
}
